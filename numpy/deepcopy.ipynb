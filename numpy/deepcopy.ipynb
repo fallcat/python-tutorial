{
  "nbformat": 4,
  "nbformat_minor": 0,
  "metadata": {
    "colab": {
      "name": "deepcopy.ipynb",
      "provenance": [],
      "collapsed_sections": [],
      "authorship_tag": "ABX9TyO0vsxaWwiqI0AA3Usl8LZ+",
      "include_colab_link": true
    },
    "kernelspec": {
      "name": "python3",
      "display_name": "Python 3"
    },
    "language_info": {
      "name": "python"
    }
  },
  "cells": [
    {
      "cell_type": "markdown",
      "metadata": {
        "id": "view-in-github",
        "colab_type": "text"
      },
      "source": [
        "<a href=\"https://colab.research.google.com/github/fallcat/python-tutorial/blob/main/numpy/deepcopy.ipynb\" target=\"_parent\"><img src=\"https://colab.research.google.com/assets/colab-badge.svg\" alt=\"Open In Colab\"/></a>"
      ]
    },
    {
      "cell_type": "markdown",
      "source": [
        "# Deepcopy\n",
        "\n",
        "In python, primitive types like int, str, float can be copied safely and it will be actual copies. \n",
        "\n",
        "But objects like list, numpy array, etc. are copied by reference. If you copy them by just making another variable equal to them and then modify them in-place, you might mess up the original variable!"
      ],
      "metadata": {
        "id": "flWZ7Opn1XE7"
      }
    },
    {
      "cell_type": "code",
      "execution_count": 8,
      "metadata": {
        "id": "ECXpoOk71SpS"
      },
      "outputs": [],
      "source": [
        "import numpy as np\n",
        "x = np.array([1, 2, 3, 4, 5, 6])"
      ]
    },
    {
      "cell_type": "code",
      "source": [
        "x"
      ],
      "metadata": {
        "colab": {
          "base_uri": "https://localhost:8080/"
        },
        "id": "ckMggO6f2tpE",
        "outputId": "35263183-96fd-45ee-c0c1-ae1ace877d71"
      },
      "execution_count": 9,
      "outputs": [
        {
          "output_type": "execute_result",
          "data": {
            "text/plain": [
              "array([1, 2, 3, 4, 5, 6])"
            ]
          },
          "metadata": {},
          "execution_count": 9
        }
      ]
    },
    {
      "cell_type": "code",
      "source": [
        "y = x"
      ],
      "metadata": {
        "id": "Oxg6Hx4k2vDQ"
      },
      "execution_count": 10,
      "outputs": []
    },
    {
      "cell_type": "code",
      "source": [
        "# if you do an in-place shuffle like this (note the there is no return value)\n",
        "np.random.shuffle(y)"
      ],
      "metadata": {
        "id": "IH3VrqMF2wDt"
      },
      "execution_count": 11,
      "outputs": []
    },
    {
      "cell_type": "code",
      "source": [
        "# y will get shuffled\n",
        "y"
      ],
      "metadata": {
        "colab": {
          "base_uri": "https://localhost:8080/"
        },
        "id": "ry-CWoFY2x74",
        "outputId": "8529a6e2-0b3b-45f7-b73b-d1b047e3610a"
      },
      "execution_count": 12,
      "outputs": [
        {
          "output_type": "execute_result",
          "data": {
            "text/plain": [
              "array([1, 4, 6, 5, 2, 3])"
            ]
          },
          "metadata": {},
          "execution_count": 12
        }
      ]
    },
    {
      "cell_type": "code",
      "source": [
        "# but so will x\n",
        "x"
      ],
      "metadata": {
        "colab": {
          "base_uri": "https://localhost:8080/"
        },
        "id": "Ny5EFnKi29Yb",
        "outputId": "6355681b-f716-459b-ce2b-c2e1f78fdef0"
      },
      "execution_count": 13,
      "outputs": [
        {
          "output_type": "execute_result",
          "data": {
            "text/plain": [
              "array([1, 4, 6, 5, 2, 3])"
            ]
          },
          "metadata": {},
          "execution_count": 13
        }
      ]
    },
    {
      "cell_type": "code",
      "source": [
        "# This is because x and y are pointing to the same thing!\n",
        "# In order to avoid this, you need to use copy.deepcopy to make a real copy\n",
        "import copy\n",
        "x = np.array([1, 2, 3, 4, 5, 6])\n",
        "y = copy.deepcopy(x)\n",
        "np.random.shuffle(y)\n",
        "print(\"y\", y)\n",
        "print(\"x\", x)"
      ],
      "metadata": {
        "colab": {
          "base_uri": "https://localhost:8080/"
        },
        "id": "n24LMgs43GZB",
        "outputId": "002366fc-09b4-4f9c-c816-9aacb3214c8f"
      },
      "execution_count": 14,
      "outputs": [
        {
          "output_type": "stream",
          "name": "stdout",
          "text": [
            "y [6 1 2 4 3 5]\n",
            "x [1 2 3 4 5 6]\n"
          ]
        }
      ]
    },
    {
      "cell_type": "code",
      "source": [
        "# For numpy, you can also make deepcopy by simply initialize another np.array\n",
        "# using the previous array\n",
        "import copy\n",
        "x = np.array([1, 2, 3, 4, 5, 6])\n",
        "y = np.array(x)\n",
        "np.random.shuffle(y)\n",
        "print(\"y\", y)\n",
        "print(\"x\", x)"
      ],
      "metadata": {
        "colab": {
          "base_uri": "https://localhost:8080/"
        },
        "id": "ZzvLKmmg3aCC",
        "outputId": "e4a4eb8d-e45e-404a-e3de-935c3b5ab4bb"
      },
      "execution_count": 15,
      "outputs": [
        {
          "output_type": "stream",
          "name": "stdout",
          "text": [
            "y [4 5 2 1 3 6]\n",
            "x [1 2 3 4 5 6]\n"
          ]
        }
      ]
    },
    {
      "cell_type": "code",
      "source": [
        ""
      ],
      "metadata": {
        "id": "ySQy4jZw3kMU"
      },
      "execution_count": null,
      "outputs": []
    }
  ]
}