{
  "nbformat": 4,
  "nbformat_minor": 0,
  "metadata": {
    "colab": {
      "name": "deepcopy.ipynb",
      "provenance": [],
      "collapsed_sections": [],
      "authorship_tag": "ABX9TyOONZ5/wrOWhV9HC/urIPhs",
      "include_colab_link": true
    },
    "kernelspec": {
      "name": "python3",
      "display_name": "Python 3"
    },
    "language_info": {
      "name": "python"
    }
  },
  "cells": [
    {
      "cell_type": "markdown",
      "metadata": {
        "id": "view-in-github",
        "colab_type": "text"
      },
      "source": [
        "<a href=\"https://colab.research.google.com/github/fallcat/python-tutorial/blob/main/numpy/deepcopy.ipynb\" target=\"_parent\"><img src=\"https://colab.research.google.com/assets/colab-badge.svg\" alt=\"Open In Colab\"/></a>"
      ]
    },
    {
      "cell_type": "markdown",
      "source": [
        "# Deepcopy\n",
        "\n",
        "In python, primitive types like int, str, float can be copied safely and it will be actual copies. \n",
        "\n",
        "But objects like list, numpy array, etc. are copied by reference. If you copy them by just making another variable equal to them and then modify them in-place, you might mess up the original variable!"
      ],
      "metadata": {
        "id": "flWZ7Opn1XE7"
      }
    },
    {
      "cell_type": "code",
      "execution_count": 1,
      "metadata": {
        "id": "ECXpoOk71SpS"
      },
      "outputs": [],
      "source": [
        "import numpy as np\n",
        "x = np.array([1, 2, 3, 4, 5, 6])"
      ]
    },
    {
      "cell_type": "code",
      "source": [
        "x"
      ],
      "metadata": {
        "colab": {
          "base_uri": "https://localhost:8080/"
        },
        "id": "ckMggO6f2tpE",
        "outputId": "4b415b3f-edd2-418e-a15b-2cbaf680de5b"
      },
      "execution_count": 2,
      "outputs": [
        {
          "output_type": "execute_result",
          "data": {
            "text/plain": [
              "array([1, 2, 3, 4, 5, 6])"
            ]
          },
          "metadata": {},
          "execution_count": 2
        }
      ]
    },
    {
      "cell_type": "code",
      "source": [
        "y = x"
      ],
      "metadata": {
        "id": "Oxg6Hx4k2vDQ"
      },
      "execution_count": 3,
      "outputs": []
    },
    {
      "cell_type": "code",
      "source": [
        "# if you do an in-place shuffle like this (note the there is no return value)\n",
        "np.random.shuffle(y)"
      ],
      "metadata": {
        "id": "IH3VrqMF2wDt"
      },
      "execution_count": 4,
      "outputs": []
    },
    {
      "cell_type": "code",
      "source": [
        "# y will get shuffled\n",
        "y"
      ],
      "metadata": {
        "colab": {
          "base_uri": "https://localhost:8080/"
        },
        "id": "ry-CWoFY2x74",
        "outputId": "a1b2e2ac-dbdd-42d6-9731-1e856106026d"
      },
      "execution_count": 5,
      "outputs": [
        {
          "output_type": "execute_result",
          "data": {
            "text/plain": [
              "array([6, 2, 3, 1, 4, 5])"
            ]
          },
          "metadata": {},
          "execution_count": 5
        }
      ]
    },
    {
      "cell_type": "code",
      "source": [
        "# but so will x\n",
        "x"
      ],
      "metadata": {
        "colab": {
          "base_uri": "https://localhost:8080/"
        },
        "id": "Ny5EFnKi29Yb",
        "outputId": "dbfe8fe6-03bc-4e27-b5d9-6203cf9e8072"
      },
      "execution_count": 6,
      "outputs": [
        {
          "output_type": "execute_result",
          "data": {
            "text/plain": [
              "array([6, 2, 3, 1, 4, 5])"
            ]
          },
          "metadata": {},
          "execution_count": 6
        }
      ]
    },
    {
      "cell_type": "code",
      "source": [
        "# This will also happen if you modify an element of the array\n",
        "y[3] = 10\n",
        "print(\"y\", y)\n",
        "print(\"x\", x)"
      ],
      "metadata": {
        "colab": {
          "base_uri": "https://localhost:8080/"
        },
        "id": "LHa4OKWB5UKR",
        "outputId": "d72f2b1d-5e43-4186-cb5e-2a2df78d5491"
      },
      "execution_count": 7,
      "outputs": [
        {
          "output_type": "stream",
          "name": "stdout",
          "text": [
            "y [ 6  2  3 10  4  5]\n",
            "x [ 6  2  3 10  4  5]\n"
          ]
        }
      ]
    },
    {
      "cell_type": "code",
      "source": [
        "# This is because x and y are pointing to the same thing!\n",
        "# In order to avoid this, you need to use copy.deepcopy to make a real copy\n",
        "import copy\n",
        "x = np.array([1, 2, 3, 4, 5, 6])\n",
        "y = copy.deepcopy(x)\n",
        "np.random.shuffle(y)\n",
        "print(\"y\", y)\n",
        "print(\"x\", x)"
      ],
      "metadata": {
        "colab": {
          "base_uri": "https://localhost:8080/"
        },
        "id": "n24LMgs43GZB",
        "outputId": "fb13896a-3673-4407-b39f-b527030d4e0e"
      },
      "execution_count": 8,
      "outputs": [
        {
          "output_type": "stream",
          "name": "stdout",
          "text": [
            "y [5 1 2 4 6 3]\n",
            "x [1 2 3 4 5 6]\n"
          ]
        }
      ]
    },
    {
      "cell_type": "code",
      "source": [
        "# For numpy, you can also make deepcopy by simply initialize another np.array\n",
        "# using the previous array\n",
        "import copy\n",
        "x = np.array([1, 2, 3, 4, 5, 6])\n",
        "y = np.array(x)\n",
        "np.random.shuffle(y)\n",
        "print(\"y\", y)\n",
        "print(\"x\", x)"
      ],
      "metadata": {
        "colab": {
          "base_uri": "https://localhost:8080/"
        },
        "id": "ZzvLKmmg3aCC",
        "outputId": "bcddfd8c-42ff-43b3-ce86-a57a2c36111d"
      },
      "execution_count": 9,
      "outputs": [
        {
          "output_type": "stream",
          "name": "stdout",
          "text": [
            "y [3 6 4 5 1 2]\n",
            "x [1 2 3 4 5 6]\n"
          ]
        }
      ]
    },
    {
      "cell_type": "code",
      "source": [
        "# Note that you won't get this issue if you're copying an int or a string\n",
        "x = 1\n",
        "y = x\n",
        "y += 1\n",
        "print(\"x\", x)\n",
        "print(\"y\", y)"
      ],
      "metadata": {
        "id": "ySQy4jZw3kMU",
        "colab": {
          "base_uri": "https://localhost:8080/"
        },
        "outputId": "6886c2d7-da7b-4bb2-a4d2-5a86ea050798"
      },
      "execution_count": 10,
      "outputs": [
        {
          "output_type": "stream",
          "name": "stdout",
          "text": [
            "x 1\n",
            "y 2\n"
          ]
        }
      ]
    },
    {
      "cell_type": "code",
      "source": [
        "x = 'hello'\n",
        "y = x\n",
        "y += ' world'\n",
        "print(\"x\", x)\n",
        "print(\"y\", y)"
      ],
      "metadata": {
        "colab": {
          "base_uri": "https://localhost:8080/"
        },
        "id": "0wD1wcGD4_7S",
        "outputId": "a13abdc1-ae60-45e0-f923-34b1b9780183"
      },
      "execution_count": 11,
      "outputs": [
        {
          "output_type": "stream",
          "name": "stdout",
          "text": [
            "x hello\n",
            "y hello world\n"
          ]
        }
      ]
    },
    {
      "cell_type": "code",
      "source": [
        ""
      ],
      "metadata": {
        "id": "C7nQyBZP5DAT"
      },
      "execution_count": 11,
      "outputs": []
    }
  ]
}