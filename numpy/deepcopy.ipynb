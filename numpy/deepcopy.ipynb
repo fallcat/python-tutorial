{
  "nbformat": 4,
  "nbformat_minor": 0,
  "metadata": {
    "colab": {
      "name": "deepcopy.ipynb",
      "provenance": [],
      "collapsed_sections": [],
      "authorship_tag": "ABX9TyNP4zw2RUONWcqnM3HvlvZ2",
      "include_colab_link": true
    },
    "kernelspec": {
      "name": "python3",
      "display_name": "Python 3"
    },
    "language_info": {
      "name": "python"
    }
  },
  "cells": [
    {
      "cell_type": "markdown",
      "metadata": {
        "id": "view-in-github",
        "colab_type": "text"
      },
      "source": [
        "<a href=\"https://colab.research.google.com/github/fallcat/python-tutorial/blob/main/numpy/deepcopy.ipynb\" target=\"_parent\"><img src=\"https://colab.research.google.com/assets/colab-badge.svg\" alt=\"Open In Colab\"/></a>"
      ]
    },
    {
      "cell_type": "markdown",
      "source": [
        "# Deepcopy\n",
        "\n",
        "In python, primitive types like int, str, float can be copied safely and it will be actual copies. \n",
        "\n",
        "But objects like list, numpy array, etc. are copied by reference. If you copy them by just making another variable equal to them and then modify them in-place, you might mess up the original variable!"
      ],
      "metadata": {
        "id": "flWZ7Opn1XE7"
      }
    },
    {
      "cell_type": "code",
      "execution_count": 1,
      "metadata": {
        "id": "ECXpoOk71SpS"
      },
      "outputs": [],
      "source": [
        "import numpy as np\n",
        "x = np.array([1, 2, 3, 4, 5, 6])"
      ]
    },
    {
      "cell_type": "code",
      "source": [
        "x"
      ],
      "metadata": {
        "colab": {
          "base_uri": "https://localhost:8080/"
        },
        "id": "ckMggO6f2tpE",
        "outputId": "f531000f-5fd5-48ba-a9bc-7af8ffb48cd3"
      },
      "execution_count": 2,
      "outputs": [
        {
          "output_type": "execute_result",
          "data": {
            "text/plain": [
              "array([1, 2, 3, 4, 5, 6])"
            ]
          },
          "metadata": {},
          "execution_count": 2
        }
      ]
    },
    {
      "cell_type": "code",
      "source": [
        "y = x"
      ],
      "metadata": {
        "id": "Oxg6Hx4k2vDQ"
      },
      "execution_count": 3,
      "outputs": []
    },
    {
      "cell_type": "code",
      "source": [
        "# if you do an in-place shuffle like this (note the there is no return value)\n",
        "np.random.shuffle(y)"
      ],
      "metadata": {
        "id": "IH3VrqMF2wDt"
      },
      "execution_count": 4,
      "outputs": []
    },
    {
      "cell_type": "code",
      "source": [
        "# y will get shuffled\n",
        "y"
      ],
      "metadata": {
        "colab": {
          "base_uri": "https://localhost:8080/"
        },
        "id": "ry-CWoFY2x74",
        "outputId": "10814e01-08ec-44c5-ef63-faa0a4f7934a"
      },
      "execution_count": 5,
      "outputs": [
        {
          "output_type": "execute_result",
          "data": {
            "text/plain": [
              "array([4, 6, 1, 3, 5, 2])"
            ]
          },
          "metadata": {},
          "execution_count": 5
        }
      ]
    },
    {
      "cell_type": "code",
      "source": [
        "# but so will x\n",
        "x"
      ],
      "metadata": {
        "colab": {
          "base_uri": "https://localhost:8080/"
        },
        "id": "Ny5EFnKi29Yb",
        "outputId": "c12a8a78-7187-4349-b10f-25a5582b7ece"
      },
      "execution_count": 6,
      "outputs": [
        {
          "output_type": "execute_result",
          "data": {
            "text/plain": [
              "array([4, 6, 1, 3, 5, 2])"
            ]
          },
          "metadata": {},
          "execution_count": 6
        }
      ]
    },
    {
      "cell_type": "code",
      "source": [
        "# This is because x and y are pointing to the same thing!\n",
        "# In order to avoid this, you need to use copy.deepcopy to make a real copy\n",
        "import copy\n",
        "x = np.array([1, 2, 3, 4, 5, 6])\n",
        "y = copy.deepcopy(x)\n",
        "np.random.shuffle(y)\n",
        "print(\"y\", y)\n",
        "print(\"x\", x)"
      ],
      "metadata": {
        "colab": {
          "base_uri": "https://localhost:8080/"
        },
        "id": "n24LMgs43GZB",
        "outputId": "59d1a12d-0196-4a6e-8145-e995d400ec39"
      },
      "execution_count": 7,
      "outputs": [
        {
          "output_type": "stream",
          "name": "stdout",
          "text": [
            "y [5 6 1 3 4 2]\n",
            "x [1 2 3 4 5 6]\n"
          ]
        }
      ]
    },
    {
      "cell_type": "code",
      "source": [
        "# For numpy, you can also make deepcopy by simply initialize another np.array\n",
        "# using the previous array\n",
        "import copy\n",
        "x = np.array([1, 2, 3, 4, 5, 6])\n",
        "y = np.array(x)\n",
        "np.random.shuffle(y)\n",
        "print(\"y\", y)\n",
        "print(\"x\", x)"
      ],
      "metadata": {
        "colab": {
          "base_uri": "https://localhost:8080/"
        },
        "id": "ZzvLKmmg3aCC",
        "outputId": "7689175a-96f9-4157-8b48-dd599ebeaa11"
      },
      "execution_count": 8,
      "outputs": [
        {
          "output_type": "stream",
          "name": "stdout",
          "text": [
            "y [2 1 3 5 4 6]\n",
            "x [1 2 3 4 5 6]\n"
          ]
        }
      ]
    },
    {
      "cell_type": "code",
      "source": [
        "# Note that you won't get this issue if you're copying an int or a string\n",
        "x = 1\n",
        "y = x\n",
        "y += 1\n",
        "print(\"x\", x)\n",
        "print(\"y\", y)"
      ],
      "metadata": {
        "id": "ySQy4jZw3kMU",
        "colab": {
          "base_uri": "https://localhost:8080/"
        },
        "outputId": "11c53ba0-0aba-4d67-e451-1718bb5ae4d7"
      },
      "execution_count": 9,
      "outputs": [
        {
          "output_type": "stream",
          "name": "stdout",
          "text": [
            "x 1\n",
            "y 2\n"
          ]
        }
      ]
    },
    {
      "cell_type": "code",
      "source": [
        "x = 'hello'\n",
        "y = x\n",
        "y += ' world'\n",
        "print(\"x\", x)\n",
        "print(\"y\", y)"
      ],
      "metadata": {
        "colab": {
          "base_uri": "https://localhost:8080/"
        },
        "id": "0wD1wcGD4_7S",
        "outputId": "e552154b-39a6-461e-f409-bafff9941620"
      },
      "execution_count": 10,
      "outputs": [
        {
          "output_type": "stream",
          "name": "stdout",
          "text": [
            "x hello\n",
            "y hello world\n"
          ]
        }
      ]
    },
    {
      "cell_type": "code",
      "source": [
        ""
      ],
      "metadata": {
        "id": "C7nQyBZP5DAT"
      },
      "execution_count": 10,
      "outputs": []
    }
  ]
}