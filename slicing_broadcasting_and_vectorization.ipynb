{
  "nbformat": 4,
  "nbformat_minor": 0,
  "metadata": {
    "colab": {
      "name": "slicing-broadcasting-and-vectorization.ipynb",
      "provenance": [],
      "authorship_tag": "ABX9TyPR7APcIoeTZmraqXFaIIJk",
      "include_colab_link": true
    },
    "kernelspec": {
      "name": "python3",
      "display_name": "Python 3"
    },
    "language_info": {
      "name": "python"
    }
  },
  "cells": [
    {
      "cell_type": "markdown",
      "metadata": {
        "id": "view-in-github",
        "colab_type": "text"
      },
      "source": [
        "<a href=\"https://colab.research.google.com/github/fallcat/python-tutorial/blob/main/slicing_broadcasting_and_vectorization.ipynb\" target=\"_parent\"><img src=\"https://colab.research.google.com/assets/colab-badge.svg\" alt=\"Open In Colab\"/></a>"
      ]
    },
    {
      "cell_type": "markdown",
      "source": [
        "# Slicing, broadcasting, and vectorization\n",
        "\n",
        "This tutorial is using `numpy`, but can apply to other array or tensor libraries such as `pytorch`."
      ],
      "metadata": {
        "id": "3LN1dYJ2vpIj"
      }
    },
    {
      "cell_type": "code",
      "source": [
        "import numpy as np"
      ],
      "metadata": {
        "id": "-Ljiktv1v7US"
      },
      "execution_count": 1,
      "outputs": []
    },
    {
      "cell_type": "markdown",
      "source": [
        "## Slicing\n",
        "\n",
        "We can use slicing to get a slice of a numpy array"
      ],
      "metadata": {
        "id": "KglOd4wivgr-"
      }
    },
    {
      "cell_type": "code",
      "execution_count": 2,
      "metadata": {
        "id": "LB3TGkt0vA9Z"
      },
      "outputs": [],
      "source": [
        "x = np.array([[1, 2, 3],\n",
        "              [1.1, 2.1, 3.1],\n",
        "              [1.2, 2.2, 3.2]])"
      ]
    },
    {
      "cell_type": "code",
      "source": [
        "x"
      ],
      "metadata": {
        "colab": {
          "base_uri": "https://localhost:8080/"
        },
        "id": "hF1-NniQwiMN",
        "outputId": "0540d788-c1a7-4179-be86-5ec5949bc299"
      },
      "execution_count": 3,
      "outputs": [
        {
          "output_type": "execute_result",
          "data": {
            "text/plain": [
              "array([[1. , 2. , 3. ],\n",
              "       [1.1, 2.1, 3.1],\n",
              "       [1.2, 2.2, 3.2]])"
            ]
          },
          "metadata": {},
          "execution_count": 3
        }
      ]
    },
    {
      "cell_type": "code",
      "source": [
        "# You can slice in the 0th dimension by putting in the index\n",
        "x[1]"
      ],
      "metadata": {
        "colab": {
          "base_uri": "https://localhost:8080/"
        },
        "id": "j1rmGwEwwiuZ",
        "outputId": "4e5a5eed-a11c-4818-e666-9cb99f510723"
      },
      "execution_count": 4,
      "outputs": [
        {
          "output_type": "execute_result",
          "data": {
            "text/plain": [
              "array([1.1, 2.1, 3.1])"
            ]
          },
          "metadata": {},
          "execution_count": 4
        }
      ]
    },
    {
      "cell_type": "code",
      "source": [
        "# You can also specify a range that you want to slice\n",
        "x[0:2]"
      ],
      "metadata": {
        "colab": {
          "base_uri": "https://localhost:8080/"
        },
        "id": "ozUIcudOwlFW",
        "outputId": "1137ca1c-ed72-4beb-e810-3ac57c164c38"
      },
      "execution_count": 5,
      "outputs": [
        {
          "output_type": "execute_result",
          "data": {
            "text/plain": [
              "array([[1. , 2. , 3. ],\n",
              "       [1.1, 2.1, 3.1]])"
            ]
          },
          "metadata": {},
          "execution_count": 5
        }
      ]
    },
    {
      "cell_type": "code",
      "source": [
        "# You can also jump around when slicing by using a list\n",
        "idx = [0,0,2]\n",
        "x[idx]"
      ],
      "metadata": {
        "colab": {
          "base_uri": "https://localhost:8080/"
        },
        "id": "gL8c6q8FwzE5",
        "outputId": "67608839-ad93-4113-c219-65a7e3688428"
      },
      "execution_count": 6,
      "outputs": [
        {
          "output_type": "execute_result",
          "data": {
            "text/plain": [
              "array([[1. , 2. , 3. ],\n",
              "       [1. , 2. , 3. ],\n",
              "       [1.2, 2.2, 3.2]])"
            ]
          },
          "metadata": {},
          "execution_count": 6
        }
      ]
    },
    {
      "cell_type": "code",
      "source": [
        "# You can not only slice in the 0th dimension, but also 1st dimension\n",
        "x[:,1]"
      ],
      "metadata": {
        "colab": {
          "base_uri": "https://localhost:8080/"
        },
        "id": "pp1ngnBQxAN1",
        "outputId": "cedbb041-d099-448c-f56b-275e1fa989b1"
      },
      "execution_count": 7,
      "outputs": [
        {
          "output_type": "execute_result",
          "data": {
            "text/plain": [
              "array([2. , 2.1, 2.2])"
            ]
          },
          "metadata": {},
          "execution_count": 7
        }
      ]
    },
    {
      "cell_type": "code",
      "source": [
        "# Note that if you slice a range, it will keep the shape, while if you use only\n",
        "# one index it will remove one dimension\n",
        "x[:,1:2]"
      ],
      "metadata": {
        "colab": {
          "base_uri": "https://localhost:8080/"
        },
        "id": "pjfypH_0xMJ0",
        "outputId": "97a1eb5c-6079-4a46-f3fe-b3cc3e52bbbd"
      },
      "execution_count": 8,
      "outputs": [
        {
          "output_type": "execute_result",
          "data": {
            "text/plain": [
              "array([[2. ],\n",
              "       [2.1],\n",
              "       [2.2]])"
            ]
          },
          "metadata": {},
          "execution_count": 8
        }
      ]
    },
    {
      "cell_type": "code",
      "source": [
        "print(\"x[:,1].shape\", x[:,1].shape)\n",
        "print(\"x[:,1:2].shape\", x[:,1:2].shape)"
      ],
      "metadata": {
        "colab": {
          "base_uri": "https://localhost:8080/"
        },
        "id": "-UZ3gV7ZxPs6",
        "outputId": "fa5288bb-e3af-47aa-fc27-90ed6ff80ce5"
      },
      "execution_count": 9,
      "outputs": [
        {
          "output_type": "stream",
          "name": "stdout",
          "text": [
            "x[:,1].shape (3,)\n",
            "x[:,1:2].shape (3, 1)\n"
          ]
        }
      ]
    },
    {
      "cell_type": "code",
      "source": [
        "idx = [0,0,2]\n",
        "x[:,idx]"
      ],
      "metadata": {
        "colab": {
          "base_uri": "https://localhost:8080/"
        },
        "id": "1ZD4EKUFxlZg",
        "outputId": "517c7527-e7de-495f-864f-e1afab5e1c15"
      },
      "execution_count": 10,
      "outputs": [
        {
          "output_type": "execute_result",
          "data": {
            "text/plain": [
              "array([[1. , 1. , 3. ],\n",
              "       [1.1, 1.1, 3.1],\n",
              "       [1.2, 1.2, 3.2]])"
            ]
          },
          "metadata": {},
          "execution_count": 10
        }
      ]
    },
    {
      "cell_type": "code",
      "source": [
        "# You can also slice a piece of the array by specifying each index for each axis\n",
        "# For example, for the 0th row, I want element 0; \n",
        "#              for the 1st row, I want element 0;\n",
        "#              for the 2nd row, I want element 1.\n",
        "idx_axis0 = list(range(x.shape[0]))\n",
        "print(\"idx_axis0\", idx_axis0)\n",
        "idx_axis1 = [0, 0, 1]\n",
        "print(\"idx_axis1\", idx_axis1)\n",
        "x[idx_axis0, idx_axis1]"
      ],
      "metadata": {
        "colab": {
          "base_uri": "https://localhost:8080/"
        },
        "id": "rjO2ii7bzhEn",
        "outputId": "c06a1ba1-b1b8-4090-af72-f49841106e65"
      },
      "execution_count": 11,
      "outputs": [
        {
          "output_type": "stream",
          "name": "stdout",
          "text": [
            "idx_axis0 [0, 1, 2]\n",
            "idx_axis1 [0, 0, 1]\n"
          ]
        },
        {
          "output_type": "execute_result",
          "data": {
            "text/plain": [
              "array([1. , 1.1, 2.2])"
            ]
          },
          "metadata": {},
          "execution_count": 11
        }
      ]
    },
    {
      "cell_type": "code",
      "source": [
        "# To write it more compactedly, we can write\n",
        "x[range(x.shape[0]), [0, 0, 1]]"
      ],
      "metadata": {
        "colab": {
          "base_uri": "https://localhost:8080/"
        },
        "id": "bGgTtAol0NCa",
        "outputId": "3afb6dfe-e6fa-4bd2-e0a4-97511185c685"
      },
      "execution_count": 12,
      "outputs": [
        {
          "output_type": "execute_result",
          "data": {
            "text/plain": [
              "array([1. , 1.1, 2.2])"
            ]
          },
          "metadata": {},
          "execution_count": 12
        }
      ]
    },
    {
      "cell_type": "markdown",
      "source": [
        "## Broadcasting\n",
        "When you want to operate on two arrays element-wise, and one array has one less dimension than the other, you can use broadcasting."
      ],
      "metadata": {
        "id": "rrRjjwQvxr-X"
      }
    },
    {
      "cell_type": "code",
      "source": [
        "x = np.array([[1, 2, 3],\n",
        "              [1.1, 2.1, 3.1]])\n",
        "y = np.array([3, 6, 9])"
      ],
      "metadata": {
        "id": "0bHJFpILxpmH"
      },
      "execution_count": 13,
      "outputs": []
    },
    {
      "cell_type": "code",
      "source": [
        "print(\"x.shape\", x.shape)\n",
        "print(\"y.shape\", y.shape)"
      ],
      "metadata": {
        "colab": {
          "base_uri": "https://localhost:8080/"
        },
        "id": "EDN8ki6Vx_8n",
        "outputId": "d2006aae-9121-4ee6-a429-ddeccdf376db"
      },
      "execution_count": 14,
      "outputs": [
        {
          "output_type": "stream",
          "name": "stdout",
          "text": [
            "x.shape (2, 3)\n",
            "y.shape (3,)\n"
          ]
        }
      ]
    },
    {
      "cell_type": "code",
      "source": [
        "# When you want to add each element in each row of x with corresponding element\n",
        "# in y, you might think of using a for-loop\n",
        "z = np.zeros((2, 3))\n",
        "for i in range(z.shape[0]):\n",
        "    for j in range(z.shape[1]):\n",
        "        z[i, j] = x[i, j] + y[j]"
      ],
      "metadata": {
        "id": "TjoTLDgJyHBH"
      },
      "execution_count": 15,
      "outputs": []
    },
    {
      "cell_type": "code",
      "source": [
        "z"
      ],
      "metadata": {
        "colab": {
          "base_uri": "https://localhost:8080/"
        },
        "id": "R47VqjFVyD_g",
        "outputId": "fe092f56-3132-4954-cedf-bb7b31cb317a"
      },
      "execution_count": 16,
      "outputs": [
        {
          "output_type": "execute_result",
          "data": {
            "text/plain": [
              "array([[ 4. ,  8. , 12. ],\n",
              "       [ 4.1,  8.1, 12.1]])"
            ]
          },
          "metadata": {},
          "execution_count": 16
        }
      ]
    },
    {
      "cell_type": "code",
      "source": [
        "# Instead, you can compute the same thing with just one line of code\n",
        "x + y"
      ],
      "metadata": {
        "colab": {
          "base_uri": "https://localhost:8080/"
        },
        "id": "JnO8leBnyFKJ",
        "outputId": "5d3f786b-2261-40d8-953b-afd30ae71ea7"
      },
      "execution_count": 17,
      "outputs": [
        {
          "output_type": "execute_result",
          "data": {
            "text/plain": [
              "array([[ 4. ,  8. , 12. ],\n",
              "       [ 4.1,  8.1, 12.1]])"
            ]
          },
          "metadata": {},
          "execution_count": 17
        }
      ]
    },
    {
      "cell_type": "code",
      "source": [
        "# Let's look at the time used by each operation when the matrix is huge\n",
        "\n",
        "import time\n",
        "\n",
        "x = np.random.rand(1000, 2000)\n",
        "y = np.random.rand(2000)\n",
        "\n",
        "start = time.time()\n",
        "\n",
        "z = np.zeros((1000, 2000))\n",
        "for i in range(z.shape[0]):\n",
        "    for j in range(z.shape[1]):\n",
        "        z[i, j] = x[i, j] + y[j]\n",
        "print(\"Time with using a loop\", time.time() - start)\n",
        "\n",
        "start = time.time()\n",
        "x + y\n",
        "print(\"Time with using vectorization\", time.time() - start)"
      ],
      "metadata": {
        "colab": {
          "base_uri": "https://localhost:8080/"
        },
        "id": "HQWgxYvNyjTF",
        "outputId": "22f0cdbd-f3a5-4db6-bd54-ff3de788a158"
      },
      "execution_count": 18,
      "outputs": [
        {
          "output_type": "stream",
          "name": "stdout",
          "text": [
            "Time with using a loop 1.4766991138458252\n",
            "Time with using vectorization 0.006775617599487305\n"
          ]
        }
      ]
    },
    {
      "cell_type": "code",
      "source": [
        ""
      ],
      "metadata": {
        "id": "tBxK1w6py52D"
      },
      "execution_count": 18,
      "outputs": []
    }
  ]
}